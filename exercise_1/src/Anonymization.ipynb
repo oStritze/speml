{
 "metadata": {
  "language_info": {
   "codemirror_mode": {
    "name": "ipython",
    "version": 3
   },
   "file_extension": ".py",
   "mimetype": "text/x-python",
   "name": "python",
   "nbconvert_exporter": "python",
   "pygments_lexer": "ipython3",
   "version": "3.8.8-final"
  },
  "orig_nbformat": 2,
  "kernelspec": {
   "name": "python3",
   "display_name": "Python 3.8.8 64-bit",
   "metadata": {
    "interpreter": {
     "hash": "8d495731cac056ee451ef657d5fadf24a16793983c3e79b805ee4f1f96f73ad1"
    }
   }
  }
 },
 "nbformat": 4,
 "nbformat_minor": 2,
 "cells": [
  {
   "source": [
    "# SPEML Exercise 1 - Anonymization"
   ],
   "cell_type": "markdown",
   "metadata": {}
  },
  {
   "cell_type": "code",
   "execution_count": 1,
   "metadata": {},
   "outputs": [],
   "source": [
    "import pandas as pd\n",
    "import numpy as np\n",
    "import matplotlib.pyplot as plt\n",
    "import time"
   ]
  },
  {
   "source": [
    "## Load Data"
   ],
   "cell_type": "markdown",
   "metadata": {}
  },
  {
   "cell_type": "code",
   "execution_count": 2,
   "metadata": {},
   "outputs": [
    {
     "output_type": "execute_result",
     "data": {
      "text/plain": [
       "   age         workclass  fnlwgt  education  education-num  \\\n",
       "0   39         State-gov   77516  Bachelors             13   \n",
       "1   50  Self-emp-not-inc   83311  Bachelors             13   \n",
       "2   38           Private  215646    HS-grad              9   \n",
       "3   53           Private  234721       11th              7   \n",
       "4   28           Private  338409  Bachelors             13   \n",
       "\n",
       "       marital-status         occupation   relationship   race     sex  \\\n",
       "0       Never-married       Adm-clerical  Not-in-family  White    Male   \n",
       "1  Married-civ-spouse    Exec-managerial        Husband  White    Male   \n",
       "2            Divorced  Handlers-cleaners  Not-in-family  White    Male   \n",
       "3  Married-civ-spouse  Handlers-cleaners        Husband  Black    Male   \n",
       "4  Married-civ-spouse     Prof-specialty           Wife  Black  Female   \n",
       "\n",
       "   capital-gain  capital-loss  hours-per-week native-country  target  \n",
       "0          2174             0              40  United-States       0  \n",
       "1             0             0              13  United-States       0  \n",
       "2             0             0              40  United-States       0  \n",
       "3             0             0              40  United-States       0  \n",
       "4             0             0              40           Cuba       0  "
      ],
      "text/html": "<div>\n<style scoped>\n    .dataframe tbody tr th:only-of-type {\n        vertical-align: middle;\n    }\n\n    .dataframe tbody tr th {\n        vertical-align: top;\n    }\n\n    .dataframe thead th {\n        text-align: right;\n    }\n</style>\n<table border=\"1\" class=\"dataframe\">\n  <thead>\n    <tr style=\"text-align: right;\">\n      <th></th>\n      <th>age</th>\n      <th>workclass</th>\n      <th>fnlwgt</th>\n      <th>education</th>\n      <th>education-num</th>\n      <th>marital-status</th>\n      <th>occupation</th>\n      <th>relationship</th>\n      <th>race</th>\n      <th>sex</th>\n      <th>capital-gain</th>\n      <th>capital-loss</th>\n      <th>hours-per-week</th>\n      <th>native-country</th>\n      <th>target</th>\n    </tr>\n  </thead>\n  <tbody>\n    <tr>\n      <th>0</th>\n      <td>39</td>\n      <td>State-gov</td>\n      <td>77516</td>\n      <td>Bachelors</td>\n      <td>13</td>\n      <td>Never-married</td>\n      <td>Adm-clerical</td>\n      <td>Not-in-family</td>\n      <td>White</td>\n      <td>Male</td>\n      <td>2174</td>\n      <td>0</td>\n      <td>40</td>\n      <td>United-States</td>\n      <td>0</td>\n    </tr>\n    <tr>\n      <th>1</th>\n      <td>50</td>\n      <td>Self-emp-not-inc</td>\n      <td>83311</td>\n      <td>Bachelors</td>\n      <td>13</td>\n      <td>Married-civ-spouse</td>\n      <td>Exec-managerial</td>\n      <td>Husband</td>\n      <td>White</td>\n      <td>Male</td>\n      <td>0</td>\n      <td>0</td>\n      <td>13</td>\n      <td>United-States</td>\n      <td>0</td>\n    </tr>\n    <tr>\n      <th>2</th>\n      <td>38</td>\n      <td>Private</td>\n      <td>215646</td>\n      <td>HS-grad</td>\n      <td>9</td>\n      <td>Divorced</td>\n      <td>Handlers-cleaners</td>\n      <td>Not-in-family</td>\n      <td>White</td>\n      <td>Male</td>\n      <td>0</td>\n      <td>0</td>\n      <td>40</td>\n      <td>United-States</td>\n      <td>0</td>\n    </tr>\n    <tr>\n      <th>3</th>\n      <td>53</td>\n      <td>Private</td>\n      <td>234721</td>\n      <td>11th</td>\n      <td>7</td>\n      <td>Married-civ-spouse</td>\n      <td>Handlers-cleaners</td>\n      <td>Husband</td>\n      <td>Black</td>\n      <td>Male</td>\n      <td>0</td>\n      <td>0</td>\n      <td>40</td>\n      <td>United-States</td>\n      <td>0</td>\n    </tr>\n    <tr>\n      <th>4</th>\n      <td>28</td>\n      <td>Private</td>\n      <td>338409</td>\n      <td>Bachelors</td>\n      <td>13</td>\n      <td>Married-civ-spouse</td>\n      <td>Prof-specialty</td>\n      <td>Wife</td>\n      <td>Black</td>\n      <td>Female</td>\n      <td>0</td>\n      <td>0</td>\n      <td>40</td>\n      <td>Cuba</td>\n      <td>0</td>\n    </tr>\n  </tbody>\n</table>\n</div>"
     },
     "metadata": {},
     "execution_count": 2
    }
   ],
   "source": [
    "# column names from https://archive.ics.uci.edu/ml/datasets/Adult\n",
    "header = [\"age\" ,\"workclass\",\"fnlwgt\",\"education\",\"education-num\",\"marital-status\",\"occupation\",\"relationship\",\"race\",\"sex\",\"capital-gain\",\"capital-loss\",\"hours-per-week\",\"native-country\", \"target\"] \n",
    "\n",
    "adults = pd.read_csv(\"../data/adult.data\", sep=\", \", engine='python', names=header, na_values=[\"?\",\"nan\"], index_col=False)\n",
    "adults[\"target\"].replace([\"<=50K\", \">50K\"], [0,1], inplace=True)\n",
    "adults.head()"
   ]
  },
  {
   "source": [
    "## Define some re-usable functions"
   ],
   "cell_type": "markdown",
   "metadata": {}
  },
  {
   "cell_type": "code",
   "execution_count": 37,
   "metadata": {},
   "outputs": [
    {
     "output_type": "stream",
     "name": "stdout",
     "text": [
      "Writing preproc.py\n"
     ]
    }
   ],
   "source": [
    "%%file preproc.py\n",
    "\n",
    "from sklearn.preprocessing import OneHotEncoder\n",
    "from sklearn.preprocessing import MinMaxScaler\n",
    "\n",
    "def preproc(data, onehot_encoder=None, scaler=None):\n",
    "    this_data = data.copy()\n",
    "    this_data.dropna(inplace=True) # drop all lines with missing values\n",
    "    this_data.reset_index(inplace=True, drop=True)\n",
    "\n",
    "    drops = [\"education-num\"] # drop this since we have education and education-num \n",
    "    this_data.drop(columns=drops, axis=1, inplace=True)\n",
    "\n",
    "    # numericals to scale\n",
    "    to_scale = [\"age\", \"fnlwgt\", \"capital-gain\", \"capital-loss\", \"hours-per-week\"]\n",
    "\n",
    "    if not scaler:\n",
    "        this_scaler = MinMaxScaler()\n",
    "        this_scaler.fit(this_data[to_scale])\n",
    "    else:\n",
    "        this_scaler = scaler \n",
    "    this_data[to_scale] = this_scaler.transform(this_data[to_scale])\n",
    "\n",
    "    # categorical columns to drop\n",
    "    onehot = [\"workclass\", \"education\", \"marital-status\", \"occupation\", \"relationship\", \"race\", \"sex\", \"native-country\"]\n",
    "\n",
    "    # in case no encoder is provided we create one which can then be re-used (train-test split)\n",
    "    if not onehot_encoder:\n",
    "        this_enc = OneHotEncoder(handle_unknown='ignore')\n",
    "        this_enc.fit(this_data[onehot])\n",
    "    else:\n",
    "        this_enc = onehot_encoder\n",
    "\n",
    "    encoded = pd.DataFrame(this_enc.transform(this_data[onehot]).toarray(), columns=this_enc.get_feature_names())\n",
    "    this_data = pd.concat([this_data.drop(columns=onehot),\n",
    "                    encoded],\n",
    "                    axis=1)\n",
    "\n",
    "    # assert that all went well and we did not loose or add any rows...\n",
    "    assert(data.dropna().shape[0] == this_data.shape[0])\n",
    "\n",
    "    return this_data, this_enc, this_scaler"
   ]
  },
  {
   "cell_type": "code",
   "execution_count": 38,
   "metadata": {},
   "outputs": [
    {
     "output_type": "stream",
     "name": "stdout",
     "text": [
      "Writing classify.py\n"
     ]
    }
   ],
   "source": [
    "%%file classify.py\n",
    "\n",
    "from sklearn.svm import SVC\n",
    "from sklearn.ensemble import RandomForestClassifier\n",
    "from sklearn.naive_bayes import GaussianNB\n",
    "from sklearn.metrics import f1_score\n",
    "#from sklearn.metrics import accuracy_score\n",
    "from sklearn.metrics import roc_auc_score\n",
    "#from sklearn.metrics import average_precision_score\n",
    "\n",
    "def classify(X_train, y_train, X_test, y_test):   \n",
    "    names = [\"SVC\", \"RandomForest\", \"GaussianNB\"]\n",
    "\n",
    "    classifiers = [\n",
    "        SVC(gamma=2, C=1),\n",
    "        RandomForestClassifier(max_depth=5, n_estimators=10, max_features=1),\n",
    "        GaussianNB()]\n",
    "\n",
    "    results = pd.DataFrame(columns=names, index=[\"f1\", \"roc_auc\"])\n",
    "\n",
    "    for i in enumerate(classifiers):\n",
    "        cname = names[i[0]]\n",
    "        c = i[1]\n",
    "\n",
    "        print(\"Fitting {} now...\".format(cname))\n",
    "        s = time.time()\n",
    "        c.fit(X_train, y_train)\n",
    "        print(\"--- Done! Took {:1.4f}s\".format(time.time()-s))\n",
    "        y_pred = c.predict(X_test)\n",
    "    \n",
    "        results[cname][\"f1\"] = f1_score(y_test, y_pred, average='micro')\n",
    "        results[cname][\"roc_auc\"] = roc_auc_score(y_test, y_pred)\n",
    "    \n",
    "    return results"
   ]
  },
  {
   "source": [
    "## Pre-Anonymisation"
   ],
   "cell_type": "markdown",
   "metadata": {}
  },
  {
   "cell_type": "code",
   "execution_count": 35,
   "metadata": {},
   "outputs": [
    {
     "output_type": "stream",
     "name": "stdout",
     "text": [
      "Data:  30162 30162\nX:     20208 9954\nY:     20208 9954\n"
     ]
    },
    {
     "output_type": "execute_result",
     "data": {
      "text/plain": [
       "        age    fnlwgt  capital-gain  capital-loss  hours-per-week  \\\n",
       "0  0.671233  0.079722           0.0      0.418962        0.397959   \n",
       "1  0.219178  0.191570           0.0      0.000000        0.142857   \n",
       "2  0.082192  0.121931           0.0      0.000000        0.397959   \n",
       "\n",
       "   x0_Federal-gov  x0_Local-gov  x0_Private  x0_Self-emp-inc  \\\n",
       "0             0.0           0.0         0.0              0.0   \n",
       "1             0.0           0.0         1.0              0.0   \n",
       "2             0.0           0.0         1.0              0.0   \n",
       "\n",
       "   x0_Self-emp-not-inc  ...  x7_Portugal  x7_Puerto-Rico  x7_Scotland  \\\n",
       "0                  0.0  ...          0.0             0.0          0.0   \n",
       "1                  0.0  ...          0.0             0.0          0.0   \n",
       "2                  0.0  ...          0.0             0.0          0.0   \n",
       "\n",
       "   x7_South  x7_Taiwan  x7_Thailand  x7_Trinadad&Tobago  x7_United-States  \\\n",
       "0       0.0        0.0          0.0                 0.0               1.0   \n",
       "1       0.0        0.0          0.0                 0.0               1.0   \n",
       "2       0.0        0.0          0.0                 0.0               1.0   \n",
       "\n",
       "   x7_Vietnam  x7_Yugoslavia  \n",
       "0         0.0            0.0  \n",
       "1         0.0            0.0  \n",
       "2         0.0            0.0  \n",
       "\n",
       "[3 rows x 103 columns]"
      ],
      "text/html": "<div>\n<style scoped>\n    .dataframe tbody tr th:only-of-type {\n        vertical-align: middle;\n    }\n\n    .dataframe tbody tr th {\n        vertical-align: top;\n    }\n\n    .dataframe thead th {\n        text-align: right;\n    }\n</style>\n<table border=\"1\" class=\"dataframe\">\n  <thead>\n    <tr style=\"text-align: right;\">\n      <th></th>\n      <th>age</th>\n      <th>fnlwgt</th>\n      <th>capital-gain</th>\n      <th>capital-loss</th>\n      <th>hours-per-week</th>\n      <th>x0_Federal-gov</th>\n      <th>x0_Local-gov</th>\n      <th>x0_Private</th>\n      <th>x0_Self-emp-inc</th>\n      <th>x0_Self-emp-not-inc</th>\n      <th>...</th>\n      <th>x7_Portugal</th>\n      <th>x7_Puerto-Rico</th>\n      <th>x7_Scotland</th>\n      <th>x7_South</th>\n      <th>x7_Taiwan</th>\n      <th>x7_Thailand</th>\n      <th>x7_Trinadad&amp;Tobago</th>\n      <th>x7_United-States</th>\n      <th>x7_Vietnam</th>\n      <th>x7_Yugoslavia</th>\n    </tr>\n  </thead>\n  <tbody>\n    <tr>\n      <th>0</th>\n      <td>0.671233</td>\n      <td>0.079722</td>\n      <td>0.0</td>\n      <td>0.418962</td>\n      <td>0.397959</td>\n      <td>0.0</td>\n      <td>0.0</td>\n      <td>0.0</td>\n      <td>0.0</td>\n      <td>0.0</td>\n      <td>...</td>\n      <td>0.0</td>\n      <td>0.0</td>\n      <td>0.0</td>\n      <td>0.0</td>\n      <td>0.0</td>\n      <td>0.0</td>\n      <td>0.0</td>\n      <td>1.0</td>\n      <td>0.0</td>\n      <td>0.0</td>\n    </tr>\n    <tr>\n      <th>1</th>\n      <td>0.219178</td>\n      <td>0.191570</td>\n      <td>0.0</td>\n      <td>0.000000</td>\n      <td>0.142857</td>\n      <td>0.0</td>\n      <td>0.0</td>\n      <td>1.0</td>\n      <td>0.0</td>\n      <td>0.0</td>\n      <td>...</td>\n      <td>0.0</td>\n      <td>0.0</td>\n      <td>0.0</td>\n      <td>0.0</td>\n      <td>0.0</td>\n      <td>0.0</td>\n      <td>0.0</td>\n      <td>1.0</td>\n      <td>0.0</td>\n      <td>0.0</td>\n    </tr>\n    <tr>\n      <th>2</th>\n      <td>0.082192</td>\n      <td>0.121931</td>\n      <td>0.0</td>\n      <td>0.000000</td>\n      <td>0.397959</td>\n      <td>0.0</td>\n      <td>0.0</td>\n      <td>1.0</td>\n      <td>0.0</td>\n      <td>0.0</td>\n      <td>...</td>\n      <td>0.0</td>\n      <td>0.0</td>\n      <td>0.0</td>\n      <td>0.0</td>\n      <td>0.0</td>\n      <td>0.0</td>\n      <td>0.0</td>\n      <td>1.0</td>\n      <td>0.0</td>\n      <td>0.0</td>\n    </tr>\n  </tbody>\n</table>\n<p>3 rows × 103 columns</p>\n</div>"
     },
     "metadata": {},
     "execution_count": 35
    }
   ],
   "source": [
    "from sklearn.model_selection import train_test_split\n",
    "\n",
    "adults.dropna(inplace=True)\n",
    "adults.reset_index(inplace=True, drop=True)\n",
    "\n",
    "X = adults.drop(\"target\", axis=1)\n",
    "y = adults[\"target\"].dropna()\n",
    "X_train, X_test, y_train, y_test = train_test_split(\n",
    "    X, y, test_size=0.33, random_state=42)\n",
    "pp_train, encoder, scaler = preproc(X_train)\n",
    "\n",
    "pp_test, encoder, scaler = preproc(X_test, encoder, scaler)\n",
    "\n",
    "print(\"Data: \", pp_train.shape[0]+pp_test.shape[0], adults.dropna().shape[0])\n",
    "print(\"X:    \", pp_train.shape[0], pp_test.shape[0])\n",
    "print(\"Y:    \", y_train.shape[0], y_test.shape[0])\n",
    "pp_train.head(3)"
   ]
  },
  {
   "cell_type": "code",
   "execution_count": 36,
   "metadata": {},
   "outputs": [
    {
     "output_type": "stream",
     "name": "stdout",
     "text": [
      "Fitting SVC now...\n",
      "--- Done! Took 116.7426s\n",
      "Fitting RandomForest now...\n",
      "--- Done! Took 0.0447s\n",
      "Fitting GaussianNB now...\n",
      "--- Done! Took 0.0395s\n"
     ]
    },
    {
     "output_type": "execute_result",
     "data": {
      "text/plain": [
       "              SVC RandomForest GaussianNB\n",
       "f1       0.816858     0.747438   0.500904\n",
       "roc_auc  0.713279          0.5   0.653093"
      ],
      "text/html": "<div>\n<style scoped>\n    .dataframe tbody tr th:only-of-type {\n        vertical-align: middle;\n    }\n\n    .dataframe tbody tr th {\n        vertical-align: top;\n    }\n\n    .dataframe thead th {\n        text-align: right;\n    }\n</style>\n<table border=\"1\" class=\"dataframe\">\n  <thead>\n    <tr style=\"text-align: right;\">\n      <th></th>\n      <th>SVC</th>\n      <th>RandomForest</th>\n      <th>GaussianNB</th>\n    </tr>\n  </thead>\n  <tbody>\n    <tr>\n      <th>f1</th>\n      <td>0.816858</td>\n      <td>0.747438</td>\n      <td>0.500904</td>\n    </tr>\n    <tr>\n      <th>roc_auc</th>\n      <td>0.713279</td>\n      <td>0.5</td>\n      <td>0.653093</td>\n    </tr>\n  </tbody>\n</table>\n</div>"
     },
     "metadata": {},
     "execution_count": 36
    }
   ],
   "source": [
    "results_raw = classify(pp_train, y_train, pp_test, y_test)\n",
    "results_raw"
   ]
  },
  {
   "cell_type": "code",
   "execution_count": null,
   "metadata": {},
   "outputs": [],
   "source": []
  }
 ]
}