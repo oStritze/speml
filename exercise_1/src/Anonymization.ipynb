{
 "metadata": {
  "language_info": {
   "codemirror_mode": {
    "name": "ipython",
    "version": 3
   },
   "file_extension": ".py",
   "mimetype": "text/x-python",
   "name": "python",
   "nbconvert_exporter": "python",
   "pygments_lexer": "ipython3",
   "version": "3.8.8-final"
  },
  "orig_nbformat": 2,
  "kernelspec": {
   "name": "python3",
   "display_name": "Python 3.8.8 64-bit ('speml': conda)",
   "metadata": {
    "interpreter": {
     "hash": "8d495731cac056ee451ef657d5fadf24a16793983c3e79b805ee4f1f96f73ad1"
    }
   }
  }
 },
 "nbformat": 4,
 "nbformat_minor": 2,
 "cells": [
  {
   "source": [
    "# SPEML Exercise 1 - Anonymization"
   ],
   "cell_type": "markdown",
   "metadata": {}
  },
  {
   "cell_type": "code",
   "execution_count": 2,
   "metadata": {},
   "outputs": [],
   "source": [
    "import pandas as pd\n",
    "import numpy as np\n",
    "import matplotlib.pyplot as plt\n",
    "import time\n",
    "\n",
    "%load_ext autoreload\n",
    "%autoreload 2"
   ]
  },
  {
   "source": [
    "## Load Data"
   ],
   "cell_type": "markdown",
   "metadata": {}
  },
  {
   "cell_type": "code",
   "execution_count": 3,
   "metadata": {},
   "outputs": [
    {
     "output_type": "execute_result",
     "data": {
      "text/plain": [
       "   age         workclass  fnlwgt  education  education-num  \\\n",
       "0   39         State-gov   77516  Bachelors             13   \n",
       "1   50  Self-emp-not-inc   83311  Bachelors             13   \n",
       "2   38           Private  215646    HS-grad              9   \n",
       "\n",
       "       marital-status         occupation   relationship   race   sex  \\\n",
       "0       Never-married       Adm-clerical  Not-in-family  White  Male   \n",
       "1  Married-civ-spouse    Exec-managerial        Husband  White  Male   \n",
       "2            Divorced  Handlers-cleaners  Not-in-family  White  Male   \n",
       "\n",
       "   capital-gain  capital-loss  hours-per-week native-country  target  \n",
       "0          2174             0              40  United-States       0  \n",
       "1             0             0              13  United-States       0  \n",
       "2             0             0              40  United-States       0  "
      ],
      "text/html": "<div>\n<style scoped>\n    .dataframe tbody tr th:only-of-type {\n        vertical-align: middle;\n    }\n\n    .dataframe tbody tr th {\n        vertical-align: top;\n    }\n\n    .dataframe thead th {\n        text-align: right;\n    }\n</style>\n<table border=\"1\" class=\"dataframe\">\n  <thead>\n    <tr style=\"text-align: right;\">\n      <th></th>\n      <th>age</th>\n      <th>workclass</th>\n      <th>fnlwgt</th>\n      <th>education</th>\n      <th>education-num</th>\n      <th>marital-status</th>\n      <th>occupation</th>\n      <th>relationship</th>\n      <th>race</th>\n      <th>sex</th>\n      <th>capital-gain</th>\n      <th>capital-loss</th>\n      <th>hours-per-week</th>\n      <th>native-country</th>\n      <th>target</th>\n    </tr>\n  </thead>\n  <tbody>\n    <tr>\n      <th>0</th>\n      <td>39</td>\n      <td>State-gov</td>\n      <td>77516</td>\n      <td>Bachelors</td>\n      <td>13</td>\n      <td>Never-married</td>\n      <td>Adm-clerical</td>\n      <td>Not-in-family</td>\n      <td>White</td>\n      <td>Male</td>\n      <td>2174</td>\n      <td>0</td>\n      <td>40</td>\n      <td>United-States</td>\n      <td>0</td>\n    </tr>\n    <tr>\n      <th>1</th>\n      <td>50</td>\n      <td>Self-emp-not-inc</td>\n      <td>83311</td>\n      <td>Bachelors</td>\n      <td>13</td>\n      <td>Married-civ-spouse</td>\n      <td>Exec-managerial</td>\n      <td>Husband</td>\n      <td>White</td>\n      <td>Male</td>\n      <td>0</td>\n      <td>0</td>\n      <td>13</td>\n      <td>United-States</td>\n      <td>0</td>\n    </tr>\n    <tr>\n      <th>2</th>\n      <td>38</td>\n      <td>Private</td>\n      <td>215646</td>\n      <td>HS-grad</td>\n      <td>9</td>\n      <td>Divorced</td>\n      <td>Handlers-cleaners</td>\n      <td>Not-in-family</td>\n      <td>White</td>\n      <td>Male</td>\n      <td>0</td>\n      <td>0</td>\n      <td>40</td>\n      <td>United-States</td>\n      <td>0</td>\n    </tr>\n  </tbody>\n</table>\n</div>"
     },
     "metadata": {},
     "execution_count": 3
    }
   ],
   "source": [
    "# column names from https://archive.ics.uci.edu/ml/datasets/Adult\n",
    "header = [\"age\" ,\"workclass\",\"fnlwgt\",\"education\",\"education-num\",\"marital-status\",\"occupation\",\"relationship\",\"race\",\"sex\",\"capital-gain\",\"capital-loss\",\"hours-per-week\",\"native-country\", \"target\"] \n",
    "\n",
    "adults = pd.read_csv(\"../data/adult.data\", sep=\", \", engine='python', names=header, na_values=[\"?\",\"nan\"], index_col=False)\n",
    "adults[\"target\"].replace([\"<=50K\", \">50K\"], [0,1], inplace=True)\n",
    "adults.head(3)"
   ]
  },
  {
   "source": [
    "## Define some re-usable functions"
   ],
   "cell_type": "markdown",
   "metadata": {}
  },
  {
   "cell_type": "code",
   "execution_count": 4,
   "metadata": {},
   "outputs": [
    {
     "output_type": "stream",
     "name": "stdout",
     "text": [
      "Overwriting preproc.py\n"
     ]
    }
   ],
   "source": [
    "%%file preproc.py\n",
    "\n",
    "import pandas as pd\n",
    "from sklearn.preprocessing import OneHotEncoder\n",
    "from sklearn.preprocessing import MinMaxScaler\n",
    "\n",
    "def preproc(data, onehot_encoder=None, scaler=None, numeric=None, categorical=None):\n",
    "    this_data = data.copy()\n",
    "    this_data.dropna(inplace=True) # drop all lines with missing values\n",
    "    this_data.reset_index(inplace=True, drop=True)\n",
    "\n",
    "    drops = [\"education-num\"] # drop this since we have education and education-num \n",
    "    this_data.drop(columns=drops, axis=1, inplace=True)\n",
    "\n",
    "    # numericals to scale\n",
    "    if numeric is None:\n",
    "        to_scale = [\"age\", \"fnlwgt\", \"capital-gain\", \"capital-loss\", \"hours-per-week\"]\n",
    "    else:\n",
    "        to_scale = numeric\n",
    "        if \"education-num\" in to_scale:\n",
    "            to_scale.remove(\"education-num\")\n",
    "\n",
    "    if not scaler:\n",
    "        this_scaler = MinMaxScaler()\n",
    "        this_scaler.fit(this_data[to_scale])\n",
    "    else:\n",
    "        this_scaler = scaler \n",
    "    this_data[to_scale] = this_scaler.transform(this_data[to_scale])\n",
    "\n",
    "    # categorical columns to encode\n",
    "    if categorical is None:\n",
    "        onehot = [\"workclass\", \"education\", \"marital-status\", \"occupation\", \"relationship\", \"race\", \"sex\", \"native-country\"]\n",
    "    else:\n",
    "        onehot = categorical\n",
    "\n",
    "    # in case no encoder is provided we create one which can then be re-used (train-test split)\n",
    "    if not onehot_encoder:\n",
    "        this_enc = OneHotEncoder(handle_unknown='ignore')\n",
    "        this_enc.fit(this_data[onehot])\n",
    "    else:\n",
    "        this_enc = onehot_encoder\n",
    "\n",
    "    encoded = pd.DataFrame(this_enc.transform(this_data[onehot]).toarray(), columns=this_enc.get_feature_names())\n",
    "    this_data = pd.concat([this_data.drop(columns=onehot),\n",
    "                    encoded],\n",
    "                    axis=1)\n",
    "\n",
    "    # assert that all went well and we did not loose or add any rows...\n",
    "    assert(data.dropna().shape[0] == this_data.shape[0])\n",
    "\n",
    "    return this_data, this_enc, this_scaler"
   ]
  },
  {
   "cell_type": "code",
   "execution_count": 5,
   "metadata": {},
   "outputs": [
    {
     "output_type": "stream",
     "name": "stdout",
     "text": [
      "Overwriting classify.py\n"
     ]
    }
   ],
   "source": [
    "%%file classify.py\n",
    "\n",
    "import time\n",
    "import pandas as pd\n",
    "from sklearn.svm import SVC\n",
    "from sklearn.ensemble import RandomForestClassifier\n",
    "from sklearn.naive_bayes import GaussianNB\n",
    "from sklearn.metrics import f1_score\n",
    "#from sklearn.metrics import accuracy_score\n",
    "from sklearn.metrics import roc_auc_score\n",
    "#from sklearn.metrics import average_precision_score\n",
    "\n",
    "def classify(X_train, y_train, X_test, y_test):   \n",
    "    names = [\"SVC\", \"RandomForest\", \"GaussianNB\"]\n",
    "\n",
    "    classifiers = [\n",
    "        SVC(gamma=2, C=1),\n",
    "        RandomForestClassifier(max_depth=5, n_estimators=10, max_features=1),\n",
    "        GaussianNB()]\n",
    "\n",
    "    results = pd.DataFrame(columns=names, index=[\"f1\", \"roc_auc\"])\n",
    "\n",
    "    for i in enumerate(classifiers):\n",
    "        cname = names[i[0]]\n",
    "        c = i[1]\n",
    "\n",
    "        print(\"Fitting {} now...\".format(cname))\n",
    "        s = time.time()\n",
    "        c.fit(X_train, y_train)\n",
    "        print(\"--- Done! Took {:1.4f}s\".format(time.time()-s))\n",
    "        y_pred = c.predict(X_test)\n",
    "    \n",
    "        results[cname][\"f1\"] = f1_score(y_test, y_pred, average='micro')\n",
    "        results[cname][\"roc_auc\"] = roc_auc_score(y_test, y_pred)\n",
    "    \n",
    "    return results"
   ]
  },
  {
   "cell_type": "code",
   "execution_count": 6,
   "metadata": {},
   "outputs": [],
   "source": [
    "import classify\n",
    "import preproc"
   ]
  },
  {
   "source": [
    "## Pre-Anonymisation"
   ],
   "cell_type": "markdown",
   "metadata": {}
  },
  {
   "cell_type": "code",
   "execution_count": 7,
   "metadata": {},
   "outputs": [
    {
     "output_type": "stream",
     "name": "stdout",
     "text": [
      "Data:  30162 30162\n---    Train, Test\nX:     20208 9954\nY:     20208 9954\n"
     ]
    },
    {
     "output_type": "execute_result",
     "data": {
      "text/plain": [
       "        age    fnlwgt  capital-gain  capital-loss  hours-per-week  \\\n",
       "0  0.671233  0.079722           0.0      0.418962        0.397959   \n",
       "1  0.219178  0.191570           0.0      0.000000        0.142857   \n",
       "2  0.082192  0.121931           0.0      0.000000        0.397959   \n",
       "\n",
       "   x0_Federal-gov  x0_Local-gov  x0_Private  x0_Self-emp-inc  \\\n",
       "0             0.0           0.0         0.0              0.0   \n",
       "1             0.0           0.0         1.0              0.0   \n",
       "2             0.0           0.0         1.0              0.0   \n",
       "\n",
       "   x0_Self-emp-not-inc  ...  x7_Portugal  x7_Puerto-Rico  x7_Scotland  \\\n",
       "0                  0.0  ...          0.0             0.0          0.0   \n",
       "1                  0.0  ...          0.0             0.0          0.0   \n",
       "2                  0.0  ...          0.0             0.0          0.0   \n",
       "\n",
       "   x7_South  x7_Taiwan  x7_Thailand  x7_Trinadad&Tobago  x7_United-States  \\\n",
       "0       0.0        0.0          0.0                 0.0               1.0   \n",
       "1       0.0        0.0          0.0                 0.0               1.0   \n",
       "2       0.0        0.0          0.0                 0.0               1.0   \n",
       "\n",
       "   x7_Vietnam  x7_Yugoslavia  \n",
       "0         0.0            0.0  \n",
       "1         0.0            0.0  \n",
       "2         0.0            0.0  \n",
       "\n",
       "[3 rows x 103 columns]"
      ],
      "text/html": "<div>\n<style scoped>\n    .dataframe tbody tr th:only-of-type {\n        vertical-align: middle;\n    }\n\n    .dataframe tbody tr th {\n        vertical-align: top;\n    }\n\n    .dataframe thead th {\n        text-align: right;\n    }\n</style>\n<table border=\"1\" class=\"dataframe\">\n  <thead>\n    <tr style=\"text-align: right;\">\n      <th></th>\n      <th>age</th>\n      <th>fnlwgt</th>\n      <th>capital-gain</th>\n      <th>capital-loss</th>\n      <th>hours-per-week</th>\n      <th>x0_Federal-gov</th>\n      <th>x0_Local-gov</th>\n      <th>x0_Private</th>\n      <th>x0_Self-emp-inc</th>\n      <th>x0_Self-emp-not-inc</th>\n      <th>...</th>\n      <th>x7_Portugal</th>\n      <th>x7_Puerto-Rico</th>\n      <th>x7_Scotland</th>\n      <th>x7_South</th>\n      <th>x7_Taiwan</th>\n      <th>x7_Thailand</th>\n      <th>x7_Trinadad&amp;Tobago</th>\n      <th>x7_United-States</th>\n      <th>x7_Vietnam</th>\n      <th>x7_Yugoslavia</th>\n    </tr>\n  </thead>\n  <tbody>\n    <tr>\n      <th>0</th>\n      <td>0.671233</td>\n      <td>0.079722</td>\n      <td>0.0</td>\n      <td>0.418962</td>\n      <td>0.397959</td>\n      <td>0.0</td>\n      <td>0.0</td>\n      <td>0.0</td>\n      <td>0.0</td>\n      <td>0.0</td>\n      <td>...</td>\n      <td>0.0</td>\n      <td>0.0</td>\n      <td>0.0</td>\n      <td>0.0</td>\n      <td>0.0</td>\n      <td>0.0</td>\n      <td>0.0</td>\n      <td>1.0</td>\n      <td>0.0</td>\n      <td>0.0</td>\n    </tr>\n    <tr>\n      <th>1</th>\n      <td>0.219178</td>\n      <td>0.191570</td>\n      <td>0.0</td>\n      <td>0.000000</td>\n      <td>0.142857</td>\n      <td>0.0</td>\n      <td>0.0</td>\n      <td>1.0</td>\n      <td>0.0</td>\n      <td>0.0</td>\n      <td>...</td>\n      <td>0.0</td>\n      <td>0.0</td>\n      <td>0.0</td>\n      <td>0.0</td>\n      <td>0.0</td>\n      <td>0.0</td>\n      <td>0.0</td>\n      <td>1.0</td>\n      <td>0.0</td>\n      <td>0.0</td>\n    </tr>\n    <tr>\n      <th>2</th>\n      <td>0.082192</td>\n      <td>0.121931</td>\n      <td>0.0</td>\n      <td>0.000000</td>\n      <td>0.397959</td>\n      <td>0.0</td>\n      <td>0.0</td>\n      <td>1.0</td>\n      <td>0.0</td>\n      <td>0.0</td>\n      <td>...</td>\n      <td>0.0</td>\n      <td>0.0</td>\n      <td>0.0</td>\n      <td>0.0</td>\n      <td>0.0</td>\n      <td>0.0</td>\n      <td>0.0</td>\n      <td>1.0</td>\n      <td>0.0</td>\n      <td>0.0</td>\n    </tr>\n  </tbody>\n</table>\n<p>3 rows × 103 columns</p>\n</div>"
     },
     "metadata": {},
     "execution_count": 7
    }
   ],
   "source": [
    "from sklearn.model_selection import train_test_split\n",
    "\n",
    "adults.dropna(inplace=True)\n",
    "adults.reset_index(inplace=True, drop=True)\n",
    "\n",
    "X = adults.drop(\"target\", axis=1)\n",
    "y = adults[\"target\"].dropna()\n",
    "X_train, X_test, y_train, y_test = train_test_split(\n",
    "    X, y, test_size=0.33, random_state=42)\n",
    "pp_train, encoder, scaler = preproc.preproc(X_train)\n",
    "\n",
    "pp_test, encoder, scaler = preproc.preproc(X_test, encoder, scaler)\n",
    "\n",
    "print(\"Data: \", pp_train.shape[0]+pp_test.shape[0], adults.dropna().shape[0])\n",
    "print(\"---    Train, Test\")\n",
    "print(\"X:    \", pp_train.shape[0], pp_test.shape[0])\n",
    "print(\"Y:    \", y_train.shape[0], y_test.shape[0])\n",
    "pp_train.head(3)"
   ]
  },
  {
   "cell_type": "code",
   "execution_count": 8,
   "metadata": {},
   "outputs": [
    {
     "output_type": "stream",
     "name": "stdout",
     "text": [
      "Fitting SVC now...\n",
      "--- Done! Took 116.8917s\n",
      "Fitting RandomForest now...\n",
      "--- Done! Took 0.0426s\n",
      "Fitting GaussianNB now...\n",
      "--- Done! Took 0.0394s\n"
     ]
    },
    {
     "output_type": "execute_result",
     "data": {
      "text/plain": [
       "              SVC RandomForest GaussianNB\n",
       "f1       0.816858     0.747438   0.500904\n",
       "roc_auc  0.713279          0.5   0.653093"
      ],
      "text/html": "<div>\n<style scoped>\n    .dataframe tbody tr th:only-of-type {\n        vertical-align: middle;\n    }\n\n    .dataframe tbody tr th {\n        vertical-align: top;\n    }\n\n    .dataframe thead th {\n        text-align: right;\n    }\n</style>\n<table border=\"1\" class=\"dataframe\">\n  <thead>\n    <tr style=\"text-align: right;\">\n      <th></th>\n      <th>SVC</th>\n      <th>RandomForest</th>\n      <th>GaussianNB</th>\n    </tr>\n  </thead>\n  <tbody>\n    <tr>\n      <th>f1</th>\n      <td>0.816858</td>\n      <td>0.747438</td>\n      <td>0.500904</td>\n    </tr>\n    <tr>\n      <th>roc_auc</th>\n      <td>0.713279</td>\n      <td>0.5</td>\n      <td>0.653093</td>\n    </tr>\n  </tbody>\n</table>\n</div>"
     },
     "metadata": {},
     "execution_count": 8
    }
   ],
   "source": [
    "results_raw = classify.classify(pp_train, y_train, pp_test, y_test)\n",
    "results_raw"
   ]
  },
  {
   "source": [
    "---\n",
    "## Anonymize\n",
    "Anonymized Quasi-identifiers data with __k-Anonymization__ using **ARX** Javava lib, see ```anonymization/arx.java```\n",
    "### Quasi-Identifiers\n",
    "- workclass\n",
    "- education\n",
    "- marital-status\n",
    "- relationship\n",
    "- native-country\n",
    "- age\n",
    "- occupation\n",
    "- race\n",
    "- sex\n"
   ],
   "cell_type": "markdown",
   "metadata": {}
  },
  {
   "source": [
    "cols_categorical = [\"workclass\", \"education\", \"marital-status\", \"relationship\", \"native-country\", \"age\", \"occupation\", \"race\", \"sex\"]\n",
    "cols_numerical = set(header)-set(cols_categorical)\n",
    "cols_numerical.remove('target') # we dont want to use target in preprocessing later\n",
    "cols_numerical = list(cols_numerical)\n",
    "\n",
    "ks = [1,2,3,5,10]\n",
    "results_anon = []\n",
    "\n",
    "for k in ks:\n",
    "    adults_anonym = pd.read_csv(\"../data/k-anonymity/anonymized_k{}.data\".format(k), sep=\",\", engine='python', na_values=[\"?\",\"nan\"], index_col=False)\n",
    "    adults_anonym[\"target\"].replace([\"<=50K\", \">50K\"], [0,1], inplace=True)\n",
    "\n",
    "    adults_anonym.dropna(inplace=True)\n",
    "    adults_anonym.reset_index(inplace=True, drop=True)\n",
    "\n",
    "    X = adults_anonym.drop(\"target\", axis=1)\n",
    "    y = adults_anonym[\"target\"].dropna()\n",
    "    X_train, X_test, y_train, y_test = train_test_split(\n",
    "        X, y, test_size=0.33, random_state=42)\n",
    "    pp_train, encoder, scaler = preproc.preproc(X_train, numeric=cols_numerical, categorical=cols_categorical)\n",
    "\n",
    "    pp_test, encoder, scaler = preproc.preproc(X_test, encoder, scaler, numeric=cols_numerical, categorical=cols_categorical)\n",
    "\n",
    "    #print(\"Data: \", pp_train.shape[0]+pp_test.shape[0], adults.dropna().shape[0])\n",
    "    print(\"---    Train, Test\")\n",
    "    print(\"X:    \", pp_train.shape[0], pp_test.shape[0])\n",
    "    print(\"Y:    \", y_train.shape[0], y_test.shape[0])\n",
    "\n",
    "    results_anon.append(classify.classify(pp_train, y_train, pp_test, y_test))"
   ],
   "cell_type": "code",
   "metadata": {},
   "execution_count": 9,
   "outputs": [
    {
     "output_type": "stream",
     "name": "stdout",
     "text": [
      "---    Train, Test\n",
      "X:     20208 9954\n",
      "Y:     20208 9954\n",
      "Fitting SVC now...\n",
      "--- Done! Took 167.8935s\n",
      "Fitting RandomForest now...\n",
      "--- Done! Took 0.0446s\n",
      "Fitting GaussianNB now...\n",
      "--- Done! Took 0.0588s\n",
      "---    Train, Test\n",
      "X:     20528 10112\n",
      "Y:     20528 10112\n",
      "Fitting SVC now...\n",
      "--- Done! Took 45.0864s\n",
      "Fitting RandomForest now...\n",
      "--- Done! Took 0.0457s\n",
      "Fitting GaussianNB now...\n",
      "--- Done! Took 0.0224s\n",
      "---    Train, Test\n",
      "X:     20640 10167\n",
      "Y:     20640 10167\n",
      "Fitting SVC now...\n",
      "--- Done! Took 30.7569s\n",
      "Fitting RandomForest now...\n",
      "--- Done! Took 0.0453s\n",
      "Fitting GaussianNB now...\n",
      "--- Done! Took 0.0177s\n",
      "---    Train, Test\n",
      "X:     20788 10240\n",
      "Y:     20788 10240\n",
      "Fitting SVC now...\n",
      "--- Done! Took 21.1690s\n",
      "Fitting RandomForest now...\n",
      "--- Done! Took 0.0432s\n",
      "Fitting GaussianNB now...\n",
      "--- Done! Took 0.0145s\n",
      "---    Train, Test\n",
      "X:     20867 10279\n",
      "Y:     20867 10279\n",
      "Fitting SVC now...\n",
      "--- Done! Took 20.2027s\n",
      "Fitting RandomForest now...\n",
      "--- Done! Took 0.0474s\n",
      "Fitting GaussianNB now...\n",
      "--- Done! Took 0.0164s\n"
     ]
    }
   ]
  },
  {
   "cell_type": "code",
   "execution_count": 10,
   "metadata": {},
   "outputs": [
    {
     "output_type": "execute_result",
     "data": {
      "text/plain": [
       "                     SVC RandomForest GaussianNB\n",
       "k-anon index                                    \n",
       "1      f1       0.782098     0.747438   0.462929\n",
       "       roc_auc   0.62063          0.5   0.632957\n",
       "2      f1       0.818434     0.756131   0.620847\n",
       "       roc_auc  0.720695     0.504954   0.721045\n",
       "3      f1        0.81617     0.764237   0.715354\n",
       "       roc_auc  0.716781     0.523024   0.770721\n",
       "5      f1        0.81709     0.755176   0.725098\n",
       "       roc_auc  0.717696     0.511436    0.77586\n",
       "10     f1       0.827804     0.772838   0.727114\n",
       "       roc_auc  0.728224     0.531637   0.778962"
      ],
      "text/html": "<div>\n<style scoped>\n    .dataframe tbody tr th:only-of-type {\n        vertical-align: middle;\n    }\n\n    .dataframe tbody tr th {\n        vertical-align: top;\n    }\n\n    .dataframe thead th {\n        text-align: right;\n    }\n</style>\n<table border=\"1\" class=\"dataframe\">\n  <thead>\n    <tr style=\"text-align: right;\">\n      <th></th>\n      <th></th>\n      <th>SVC</th>\n      <th>RandomForest</th>\n      <th>GaussianNB</th>\n    </tr>\n    <tr>\n      <th>k-anon</th>\n      <th>index</th>\n      <th></th>\n      <th></th>\n      <th></th>\n    </tr>\n  </thead>\n  <tbody>\n    <tr>\n      <th rowspan=\"2\" valign=\"top\">1</th>\n      <th>f1</th>\n      <td>0.782098</td>\n      <td>0.747438</td>\n      <td>0.462929</td>\n    </tr>\n    <tr>\n      <th>roc_auc</th>\n      <td>0.62063</td>\n      <td>0.5</td>\n      <td>0.632957</td>\n    </tr>\n    <tr>\n      <th rowspan=\"2\" valign=\"top\">2</th>\n      <th>f1</th>\n      <td>0.818434</td>\n      <td>0.756131</td>\n      <td>0.620847</td>\n    </tr>\n    <tr>\n      <th>roc_auc</th>\n      <td>0.720695</td>\n      <td>0.504954</td>\n      <td>0.721045</td>\n    </tr>\n    <tr>\n      <th rowspan=\"2\" valign=\"top\">3</th>\n      <th>f1</th>\n      <td>0.81617</td>\n      <td>0.764237</td>\n      <td>0.715354</td>\n    </tr>\n    <tr>\n      <th>roc_auc</th>\n      <td>0.716781</td>\n      <td>0.523024</td>\n      <td>0.770721</td>\n    </tr>\n    <tr>\n      <th rowspan=\"2\" valign=\"top\">5</th>\n      <th>f1</th>\n      <td>0.81709</td>\n      <td>0.755176</td>\n      <td>0.725098</td>\n    </tr>\n    <tr>\n      <th>roc_auc</th>\n      <td>0.717696</td>\n      <td>0.511436</td>\n      <td>0.77586</td>\n    </tr>\n    <tr>\n      <th rowspan=\"2\" valign=\"top\">10</th>\n      <th>f1</th>\n      <td>0.827804</td>\n      <td>0.772838</td>\n      <td>0.727114</td>\n    </tr>\n    <tr>\n      <th>roc_auc</th>\n      <td>0.728224</td>\n      <td>0.531637</td>\n      <td>0.778962</td>\n    </tr>\n  </tbody>\n</table>\n</div>"
     },
     "metadata": {},
     "execution_count": 10
    }
   ],
   "source": [
    "_results = pd.DataFrame()\n",
    "for k, res in zip(ks, results_anon):\n",
    "    thisr = res.reset_index()\n",
    "    thisr[\"k-anon\"] = k\n",
    "    thisr.set_index([\"k-anon\", \"index\"], inplace=True)\n",
    "    _results = pd.concat([_results, thisr])\n",
    "    \n",
    "_results"
   ]
  },
  {
   "cell_type": "code",
   "execution_count": 13,
   "metadata": {},
   "outputs": [
    {
     "output_type": "stream",
     "name": "stdout",
     "text": [
      "|                 |      SVC |   RandomForest |   GaussianNB |\n|-----------------|----------|----------------|--------------|\n| (1, 'f1')       | 0.782098 |       0.747438 |     0.462929 |\n| (1, 'roc_auc')  | 0.62063  |       0.5      |     0.632957 |\n| (2, 'f1')       | 0.818434 |       0.756131 |     0.620847 |\n| (2, 'roc_auc')  | 0.720695 |       0.504954 |     0.721045 |\n| (3, 'f1')       | 0.81617  |       0.764237 |     0.715354 |\n| (3, 'roc_auc')  | 0.716781 |       0.523024 |     0.770721 |\n| (5, 'f1')       | 0.81709  |       0.755176 |     0.725098 |\n| (5, 'roc_auc')  | 0.717696 |       0.511436 |     0.77586  |\n| (10, 'f1')      | 0.827804 |       0.772838 |     0.727114 |\n| (10, 'roc_auc') | 0.728224 |       0.531637 |     0.778962 |\n"
     ]
    }
   ],
   "source": [
    "print(_results.to_markdown(tablefmt=\"github\"))"
   ]
  },
  {
   "source": [
    "The Generalization from k-Anonymity had a slightly positive effect on the selected classifers. \n",
    "\n",
    "Raw data:\n",
    "\n",
    "|         |      SVC |   RandomForest |   GaussianNB |\n",
    "|---------|----------|----------------|--------------|\n",
    "| f1      | 0.816858 |       0.747438 |     0.500904 |\n",
    "| roc_auc | 0.713279 |       0.5      |     0.653093 |\n",
    "\n",
    "Anonymization with different k=`[1,2,3,5]`:\n",
    "\n",
    "|                 |      SVC |   RandomForest |   GaussianNB |\n",
    "|-----------------|----------|----------------|--------------|\n",
    "| (1, 'f1')       | 0.782098 |       0.747438 |     0.462929 |\n",
    "| (1, 'roc_auc')  | 0.62063  |       0.5      |     0.632957 |\n",
    "| (2, 'f1')       | 0.818434 |       0.756131 |     0.620847 |\n",
    "| (2, 'roc_auc')  | 0.720695 |       0.504954 |     0.721045 |\n",
    "| (3, 'f1')       | 0.81617  |       0.764237 |     0.715354 |\n",
    "| (3, 'roc_auc')  | 0.716781 |       0.523024 |     0.770721 |\n",
    "| (5, 'f1')       | 0.81709  |       0.755176 |     0.725098 |\n",
    "| (5, 'roc_auc')  | 0.717696 |       0.511436 |     0.77586  |\n",
    "| (10, 'f1')      | 0.827804 |       0.772838 |     0.727114 |\n",
    "| (10, 'roc_auc') | 0.728224 |       0.531637 |     0.778962 |\n",
    "\n",
    "Arguably, the generalization might have helped the classifiers to not overfit on some less important variables, especially on simpler methods like RandomForest or the GaussianNB. \n"
   ],
   "cell_type": "markdown",
   "metadata": {}
  },
  {
   "source": [
    "## Microaggregation"
   ],
   "cell_type": "markdown",
   "metadata": {}
  },
  {
   "cell_type": "code",
   "execution_count": null,
   "metadata": {},
   "outputs": [],
   "source": []
  }
 ]
}